{
 "cells": [
  {
   "cell_type": "markdown",
   "id": "9ee007e7",
   "metadata": {},
   "source": [
    "# MOVIE REVIEW ANALYSIS"
   ]
  },
  {
   "cell_type": "markdown",
   "id": "b809d5e8",
   "metadata": {},
   "source": [
    "# IMPORTING LIBRARIES"
   ]
  },
  {
   "cell_type": "code",
   "execution_count": 1,
   "id": "1b37ec67",
   "metadata": {},
   "outputs": [],
   "source": [
    "import pandas as panda\n",
    "import numpy as np\n",
    "import string\n",
    "\n",
    "import nltk\n",
    "from nltk.tokenize import word_tokenize\n",
    "from nltk.corpus import stopwords\n",
    "from nltk.stem.porter import *\n",
    "from nltk.tokenize.treebank import TreebankWordDetokenizer\n",
    "from nltk.stem import WordNetLemmatizer\n",
    "from nltk.tokenize.treebank import TreebankWordDetokenizer\n",
    "\n",
    "from keras.preprocessing.text import Tokenizer\n",
    "from keras.preprocessing.sequence import pad_sequences\n",
    "from keras import regularizers\n",
    "from keras import backend as K\n",
    "from keras.callbacks import ModelCheckpoint\n",
    "\n",
    "from sklearn.preprocessing import OneHotEncoder\n",
    "from sklearn.feature_extraction.text import CountVectorizer\n",
    "from sklearn.feature_extraction.text import TfidfVectorizer\n",
    "from sklearn.model_selection import train_test_split\n",
    "from sklearn.naive_bayes import GaussianNB\n",
    "from sklearn.metrics import classification_report\n",
    "from sklearn.metrics import accuracy_score\n",
    "from sklearn.metrics import confusion_matrix\n",
    "\n",
    "from keras.models import Sequential\n",
    "from keras import layers\n",
    "\n",
    "import seaborn as sns\n",
    "import matplotlib.pyplot as plt"
   ]
  },
  {
   "cell_type": "markdown",
   "id": "b846cb62",
   "metadata": {},
   "source": [
    "# VISUALIZING DATASET"
   ]
  },
  {
   "cell_type": "code",
   "execution_count": 2,
   "id": "216c1944",
   "metadata": {},
   "outputs": [
    {
     "data": {
      "text/html": [
       "<div>\n",
       "<style scoped>\n",
       "    .dataframe tbody tr th:only-of-type {\n",
       "        vertical-align: middle;\n",
       "    }\n",
       "\n",
       "    .dataframe tbody tr th {\n",
       "        vertical-align: top;\n",
       "    }\n",
       "\n",
       "    .dataframe thead th {\n",
       "        text-align: right;\n",
       "    }\n",
       "</style>\n",
       "<table border=\"1\" class=\"dataframe\">\n",
       "  <thead>\n",
       "    <tr style=\"text-align: right;\">\n",
       "      <th></th>\n",
       "      <th>review</th>\n",
       "      <th>sentiment</th>\n",
       "    </tr>\n",
       "  </thead>\n",
       "  <tbody>\n",
       "    <tr>\n",
       "      <th>0</th>\n",
       "      <td>One of the other reviewers has mentioned that ...</td>\n",
       "      <td>positive</td>\n",
       "    </tr>\n",
       "    <tr>\n",
       "      <th>1</th>\n",
       "      <td>A wonderful little production. &lt;br /&gt;&lt;br /&gt;The...</td>\n",
       "      <td>positive</td>\n",
       "    </tr>\n",
       "    <tr>\n",
       "      <th>2</th>\n",
       "      <td>I thought this was a wonderful way to spend ti...</td>\n",
       "      <td>positive</td>\n",
       "    </tr>\n",
       "    <tr>\n",
       "      <th>3</th>\n",
       "      <td>Basically there's a family where a little boy ...</td>\n",
       "      <td>negative</td>\n",
       "    </tr>\n",
       "    <tr>\n",
       "      <th>4</th>\n",
       "      <td>Petter Mattei's \"Love in the Time of Money\" is...</td>\n",
       "      <td>positive</td>\n",
       "    </tr>\n",
       "    <tr>\n",
       "      <th>...</th>\n",
       "      <td>...</td>\n",
       "      <td>...</td>\n",
       "    </tr>\n",
       "    <tr>\n",
       "      <th>49995</th>\n",
       "      <td>I thought this movie did a down right good job...</td>\n",
       "      <td>positive</td>\n",
       "    </tr>\n",
       "    <tr>\n",
       "      <th>49996</th>\n",
       "      <td>Bad plot, bad dialogue, bad acting, idiotic di...</td>\n",
       "      <td>negative</td>\n",
       "    </tr>\n",
       "    <tr>\n",
       "      <th>49997</th>\n",
       "      <td>I am a Catholic taught in parochial elementary...</td>\n",
       "      <td>negative</td>\n",
       "    </tr>\n",
       "    <tr>\n",
       "      <th>49998</th>\n",
       "      <td>I'm going to have to disagree with the previou...</td>\n",
       "      <td>negative</td>\n",
       "    </tr>\n",
       "    <tr>\n",
       "      <th>49999</th>\n",
       "      <td>No one expects the Star Trek movies to be high...</td>\n",
       "      <td>negative</td>\n",
       "    </tr>\n",
       "  </tbody>\n",
       "</table>\n",
       "<p>50000 rows × 2 columns</p>\n",
       "</div>"
      ],
      "text/plain": [
       "                                                  review sentiment\n",
       "0      One of the other reviewers has mentioned that ...  positive\n",
       "1      A wonderful little production. <br /><br />The...  positive\n",
       "2      I thought this was a wonderful way to spend ti...  positive\n",
       "3      Basically there's a family where a little boy ...  negative\n",
       "4      Petter Mattei's \"Love in the Time of Money\" is...  positive\n",
       "...                                                  ...       ...\n",
       "49995  I thought this movie did a down right good job...  positive\n",
       "49996  Bad plot, bad dialogue, bad acting, idiotic di...  negative\n",
       "49997  I am a Catholic taught in parochial elementary...  negative\n",
       "49998  I'm going to have to disagree with the previou...  negative\n",
       "49999  No one expects the Star Trek movies to be high...  negative\n",
       "\n",
       "[50000 rows x 2 columns]"
      ]
     },
     "execution_count": 2,
     "metadata": {},
     "output_type": "execute_result"
    }
   ],
   "source": [
    "inputdata = panda.read_csv(\"IMDB Dataset.csv\")\n",
    "inputdata"
   ]
  },
  {
   "cell_type": "code",
   "execution_count": 3,
   "id": "c749301a",
   "metadata": {},
   "outputs": [
    {
     "name": "stdout",
     "output_type": "stream",
     "text": [
      "<class 'pandas.core.frame.DataFrame'>\n",
      "RangeIndex: 50000 entries, 0 to 49999\n",
      "Data columns (total 2 columns):\n",
      " #   Column     Non-Null Count  Dtype \n",
      "---  ------     --------------  ----- \n",
      " 0   review     50000 non-null  object\n",
      " 1   sentiment  50000 non-null  object\n",
      "dtypes: object(2)\n",
      "memory usage: 781.4+ KB\n"
     ]
    }
   ],
   "source": [
    "inputdata.info()"
   ]
  },
  {
   "cell_type": "code",
   "execution_count": 4,
   "id": "8385845a",
   "metadata": {},
   "outputs": [
    {
     "data": {
      "text/plain": [
       "<AxesSubplot:>"
      ]
     },
     "execution_count": 4,
     "metadata": {},
     "output_type": "execute_result"
    },
    {
     "data": {
      "image/png": "[encoded data removed]",
      "text/plain": [
       "<Figure size 432x288 with 1 Axes>"
      ]
     },
     "metadata": {
      "needs_background": "light"
     },
     "output_type": "display_data"
    }
   ],
   "source": [
    "inputdata['sentiment'].hist()"
   ]
  },
  {
   "cell_type": "markdown",
   "id": "025213de",
   "metadata": {},
   "source": [
    "# DATA PREPROCESSING"
   ]
  },
  {
   "cell_type": "markdown",
   "id": "8e52feb7",
   "metadata": {},
   "source": [
    "# SPACE REMOVAL"
   ]
  },
  {
   "cell_type": "code",
   "execution_count": 5,
   "id": "10c11a1c",
   "metadata": {},
   "outputs": [],
   "source": [
    "data =inputdata.review"
   ]
  },
  {
   "cell_type": "code",
   "execution_count": 6,
   "id": "b022642d",
   "metadata": {},
   "outputs": [],
   "source": [
    "def remove_space(data):  \n",
    "    \n",
    "    \n",
    "    regex_pat = re.compile(r'\\s+')\n",
    "    data_space = data.str.replace(regex_pat, ' ')    \n",
    "    newdata=data.str.replace(r'\\s+', ' ')    \n",
    "    newdata=newdata.str.replace(r'^\\s+|\\s+?$','')   \n",
    "    newdata=newdata.str.replace(r'\\d+(\\.\\d+)?','numbr')\n",
    "    data_lower = newdata.str.lower()\n",
    "    \n",
    "    return data_lower"
   ]
  },
  {
   "cell_type": "code",
   "execution_count": 7,
   "id": "c477995e",
   "metadata": {},
   "outputs": [
    {
     "data": {
      "text/html": [
       "<div>\n",
       "<style scoped>\n",
       "    .dataframe tbody tr th:only-of-type {\n",
       "        vertical-align: middle;\n",
       "    }\n",
       "\n",
       "    .dataframe tbody tr th {\n",
       "        vertical-align: top;\n",
       "    }\n",
       "\n",
       "    .dataframe thead th {\n",
       "        text-align: right;\n",
       "    }\n",
       "</style>\n",
       "<table border=\"1\" class=\"dataframe\">\n",
       "  <thead>\n",
       "    <tr style=\"text-align: right;\">\n",
       "      <th></th>\n",
       "      <th>review</th>\n",
       "      <th>sentiment</th>\n",
       "      <th>review_w/o_space</th>\n",
       "    </tr>\n",
       "  </thead>\n",
       "  <tbody>\n",
       "    <tr>\n",
       "      <th>0</th>\n",
       "      <td>One of the other reviewers has mentioned that ...</td>\n",
       "      <td>positive</td>\n",
       "      <td>one of the other reviewers has mentioned that ...</td>\n",
       "    </tr>\n",
       "    <tr>\n",
       "      <th>1</th>\n",
       "      <td>A wonderful little production. &lt;br /&gt;&lt;br /&gt;The...</td>\n",
       "      <td>positive</td>\n",
       "      <td>a wonderful little production. &lt;br /&gt;&lt;br /&gt;the...</td>\n",
       "    </tr>\n",
       "    <tr>\n",
       "      <th>2</th>\n",
       "      <td>I thought this was a wonderful way to spend ti...</td>\n",
       "      <td>positive</td>\n",
       "      <td>i thought this was a wonderful way to spend ti...</td>\n",
       "    </tr>\n",
       "    <tr>\n",
       "      <th>3</th>\n",
       "      <td>Basically there's a family where a little boy ...</td>\n",
       "      <td>negative</td>\n",
       "      <td>basically there's a family where a little boy ...</td>\n",
       "    </tr>\n",
       "    <tr>\n",
       "      <th>4</th>\n",
       "      <td>Petter Mattei's \"Love in the Time of Money\" is...</td>\n",
       "      <td>positive</td>\n",
       "      <td>petter mattei's \"love in the time of money\" is...</td>\n",
       "    </tr>\n",
       "  </tbody>\n",
       "</table>\n",
       "</div>"
      ],
      "text/plain": [
       "                                              review sentiment  \\\n",
       "0  One of the other reviewers has mentioned that ...  positive   \n",
       "1  A wonderful little production. <br /><br />The...  positive   \n",
       "2  I thought this was a wonderful way to spend ti...  positive   \n",
       "3  Basically there's a family where a little boy ...  negative   \n",
       "4  Petter Mattei's \"Love in the Time of Money\" is...  positive   \n",
       "\n",
       "                                    review_w/o_space  \n",
       "0  one of the other reviewers has mentioned that ...  \n",
       "1  a wonderful little production. <br /><br />the...  \n",
       "2  i thought this was a wonderful way to spend ti...  \n",
       "3  basically there's a family where a little boy ...  \n",
       "4  petter mattei's \"love in the time of money\" is...  "
      ]
     },
     "execution_count": 7,
     "metadata": {},
     "output_type": "execute_result"
    }
   ],
   "source": [
    "data_space= remove_space(data)\n",
    "inputdata[\"review_w/o_space\"]=data_space\n",
    "inputdata.head()"
   ]
  },
  {
   "cell_type": "code",
   "execution_count": 8,
   "id": "41cf42c2",
   "metadata": {},
   "outputs": [
    {
     "name": "stderr",
     "output_type": "stream",
     "text": [
      "[nltk_data] Downloading package wordnet to\n",
      "[nltk_data]     C:\\Users\\jj201\\AppData\\Roaming\\nltk_data...\n",
      "[nltk_data]   Package wordnet is already up-to-date!\n"
     ]
    },
    {
     "data": {
      "text/plain": [
       "True"
      ]
     },
     "execution_count": 8,
     "metadata": {},
     "output_type": "execute_result"
    }
   ],
   "source": [
    "import nltk\n",
    "nltk.download('wordnet')"
   ]
  },
  {
   "cell_type": "code",
   "execution_count": 9,
   "id": "007d276c",
   "metadata": {},
   "outputs": [
    {
     "name": "stderr",
     "output_type": "stream",
     "text": [
      "[nltk_data] Downloading package omw-1.4 to\n",
      "[nltk_data]     C:\\Users\\jj201\\AppData\\Roaming\\nltk_data...\n",
      "[nltk_data]   Package omw-1.4 is already up-to-date!\n"
     ]
    },
    {
     "data": {
      "text/plain": [
       "True"
      ]
     },
     "execution_count": 9,
     "metadata": {},
     "output_type": "execute_result"
    }
   ],
   "source": [
    "import nltk\n",
    "nltk.download('omw-1.4')"
   ]
  },
  {
   "cell_type": "markdown",
   "id": "d640bdd5",
   "metadata": {},
   "source": [
    "# LEMMATIZATION"
   ]
  },
  {
   "cell_type": "code",
   "execution_count": 10,
   "id": "12998bac",
   "metadata": {},
   "outputs": [],
   "source": [
    "from nltk.stem import WordNetLemmatizer\n",
    "\n",
    "inputdata['review_lem'] = [''.join([WordNetLemmatizer().lemmatize(re.sub('[^A-Za-z]',' ',data)) for data in lis]) \n",
    "                     for lis in inputdata['review_w/o_space']]"
   ]
  },
  {
   "cell_type": "markdown",
   "id": "33bb7c0e",
   "metadata": {},
   "source": [
    "# TOKENIZATION"
   ]
  },
  {
   "cell_type": "code",
   "execution_count": 11,
   "id": "3118aa1a",
   "metadata": {},
   "outputs": [],
   "source": [
    "inputdata[\"tokenized_review\"] = inputdata[\"review_lem\"].apply(lambda x: x.split())"
   ]
  },
  {
   "cell_type": "code",
   "execution_count": 12,
   "id": "50fdd63f",
   "metadata": {},
   "outputs": [
    {
     "data": {
      "text/html": [
       "<div>\n",
       "<style scoped>\n",
       "    .dataframe tbody tr th:only-of-type {\n",
       "        vertical-align: middle;\n",
       "    }\n",
       "\n",
       "    .dataframe tbody tr th {\n",
       "        vertical-align: top;\n",
       "    }\n",
       "\n",
       "    .dataframe thead th {\n",
       "        text-align: right;\n",
       "    }\n",
       "</style>\n",
       "<table border=\"1\" class=\"dataframe\">\n",
       "  <thead>\n",
       "    <tr style=\"text-align: right;\">\n",
       "      <th></th>\n",
       "      <th>review</th>\n",
       "      <th>sentiment</th>\n",
       "      <th>review_w/o_space</th>\n",
       "      <th>review_lem</th>\n",
       "      <th>tokenized_review</th>\n",
       "    </tr>\n",
       "  </thead>\n",
       "  <tbody>\n",
       "    <tr>\n",
       "      <th>0</th>\n",
       "      <td>One of the other reviewers has mentioned that ...</td>\n",
       "      <td>positive</td>\n",
       "      <td>one of the other reviewers has mentioned that ...</td>\n",
       "      <td>one of the other reviewers has mentioned that ...</td>\n",
       "      <td>[one, of, the, other, reviewers, has, mentione...</td>\n",
       "    </tr>\n",
       "    <tr>\n",
       "      <th>1</th>\n",
       "      <td>A wonderful little production. &lt;br /&gt;&lt;br /&gt;The...</td>\n",
       "      <td>positive</td>\n",
       "      <td>a wonderful little production. &lt;br /&gt;&lt;br /&gt;the...</td>\n",
       "      <td>a wonderful little production   br    br   the...</td>\n",
       "      <td>[a, wonderful, little, production, br, br, the...</td>\n",
       "    </tr>\n",
       "    <tr>\n",
       "      <th>2</th>\n",
       "      <td>I thought this was a wonderful way to spend ti...</td>\n",
       "      <td>positive</td>\n",
       "      <td>i thought this was a wonderful way to spend ti...</td>\n",
       "      <td>i thought this was a wonderful way to spend ti...</td>\n",
       "      <td>[i, thought, this, was, a, wonderful, way, to,...</td>\n",
       "    </tr>\n",
       "    <tr>\n",
       "      <th>3</th>\n",
       "      <td>Basically there's a family where a little boy ...</td>\n",
       "      <td>negative</td>\n",
       "      <td>basically there's a family where a little boy ...</td>\n",
       "      <td>basically there s a family where a little boy ...</td>\n",
       "      <td>[basically, there, s, a, family, where, a, lit...</td>\n",
       "    </tr>\n",
       "    <tr>\n",
       "      <th>4</th>\n",
       "      <td>Petter Mattei's \"Love in the Time of Money\" is...</td>\n",
       "      <td>positive</td>\n",
       "      <td>petter mattei's \"love in the time of money\" is...</td>\n",
       "      <td>petter mattei s  love in the time of money  is...</td>\n",
       "      <td>[petter, mattei, s, love, in, the, time, of, m...</td>\n",
       "    </tr>\n",
       "  </tbody>\n",
       "</table>\n",
       "</div>"
      ],
      "text/plain": [
       "                                              review sentiment  \\\n",
       "0  One of the other reviewers has mentioned that ...  positive   \n",
       "1  A wonderful little production. <br /><br />The...  positive   \n",
       "2  I thought this was a wonderful way to spend ti...  positive   \n",
       "3  Basically there's a family where a little boy ...  negative   \n",
       "4  Petter Mattei's \"Love in the Time of Money\" is...  positive   \n",
       "\n",
       "                                    review_w/o_space  \\\n",
       "0  one of the other reviewers has mentioned that ...   \n",
       "1  a wonderful little production. <br /><br />the...   \n",
       "2  i thought this was a wonderful way to spend ti...   \n",
       "3  basically there's a family where a little boy ...   \n",
       "4  petter mattei's \"love in the time of money\" is...   \n",
       "\n",
       "                                          review_lem  \\\n",
       "0  one of the other reviewers has mentioned that ...   \n",
       "1  a wonderful little production   br    br   the...   \n",
       "2  i thought this was a wonderful way to spend ti...   \n",
       "3  basically there s a family where a little boy ...   \n",
       "4  petter mattei s  love in the time of money  is...   \n",
       "\n",
       "                                    tokenized_review  \n",
       "0  [one, of, the, other, reviewers, has, mentione...  \n",
       "1  [a, wonderful, little, production, br, br, the...  \n",
       "2  [i, thought, this, was, a, wonderful, way, to,...  \n",
       "3  [basically, there, s, a, family, where, a, lit...  \n",
       "4  [petter, mattei, s, love, in, the, time, of, m...  "
      ]
     },
     "execution_count": 12,
     "metadata": {},
     "output_type": "execute_result"
    }
   ],
   "source": [
    "inputdata.head()"
   ]
  },
  {
   "cell_type": "markdown",
   "id": "0fad01aa",
   "metadata": {},
   "source": [
    "# STOPWORDS REMOVAL"
   ]
  },
  {
   "cell_type": "code",
   "execution_count": 13,
   "id": "e61b0640",
   "metadata": {},
   "outputs": [
    {
     "name": "stderr",
     "output_type": "stream",
     "text": [
      "[nltk_data] Downloading package stopwords to\n",
      "[nltk_data]     C:\\Users\\jj201\\AppData\\Roaming\\nltk_data...\n",
      "[nltk_data]   Package stopwords is already up-to-date!\n"
     ]
    },
    {
     "data": {
      "text/plain": [
       "True"
      ]
     },
     "execution_count": 13,
     "metadata": {},
     "output_type": "execute_result"
    }
   ],
   "source": [
    "import nltk\n",
    "nltk.download('stopwords')"
   ]
  },
  {
   "cell_type": "code",
   "execution_count": 14,
   "id": "58d56362",
   "metadata": {},
   "outputs": [],
   "source": [
    "stopwords = nltk.corpus.stopwords.words(\"english\")\n",
    "other_exclusions = [\"br\"]\n",
    "stopwords.extend(other_exclusions)\n",
    "stemmer = PorterStemmer()"
   ]
  },
  {
   "cell_type": "code",
   "execution_count": 15,
   "id": "77989a07",
   "metadata": {},
   "outputs": [
    {
     "data": {
      "text/html": [
       "<div>\n",
       "<style scoped>\n",
       "    .dataframe tbody tr th:only-of-type {\n",
       "        vertical-align: middle;\n",
       "    }\n",
       "\n",
       "    .dataframe tbody tr th {\n",
       "        vertical-align: top;\n",
       "    }\n",
       "\n",
       "    .dataframe thead th {\n",
       "        text-align: right;\n",
       "    }\n",
       "</style>\n",
       "<table border=\"1\" class=\"dataframe\">\n",
       "  <thead>\n",
       "    <tr style=\"text-align: right;\">\n",
       "      <th></th>\n",
       "      <th>review</th>\n",
       "      <th>sentiment</th>\n",
       "      <th>review_w/o_space</th>\n",
       "      <th>review_lem</th>\n",
       "      <th>tokenized_review</th>\n",
       "      <th>review_w/o_stop</th>\n",
       "    </tr>\n",
       "  </thead>\n",
       "  <tbody>\n",
       "    <tr>\n",
       "      <th>0</th>\n",
       "      <td>One of the other reviewers has mentioned that ...</td>\n",
       "      <td>positive</td>\n",
       "      <td>one of the other reviewers has mentioned that ...</td>\n",
       "      <td>one of the other reviewers has mentioned that ...</td>\n",
       "      <td>[one, of, the, other, reviewers, has, mentione...</td>\n",
       "      <td>[one, reviewers, mentioned, watching, numbr, o...</td>\n",
       "    </tr>\n",
       "    <tr>\n",
       "      <th>1</th>\n",
       "      <td>A wonderful little production. &lt;br /&gt;&lt;br /&gt;The...</td>\n",
       "      <td>positive</td>\n",
       "      <td>a wonderful little production. &lt;br /&gt;&lt;br /&gt;the...</td>\n",
       "      <td>a wonderful little production   br    br   the...</td>\n",
       "      <td>[a, wonderful, little, production, br, br, the...</td>\n",
       "      <td>[wonderful, little, production, filming, techn...</td>\n",
       "    </tr>\n",
       "    <tr>\n",
       "      <th>2</th>\n",
       "      <td>I thought this was a wonderful way to spend ti...</td>\n",
       "      <td>positive</td>\n",
       "      <td>i thought this was a wonderful way to spend ti...</td>\n",
       "      <td>i thought this was a wonderful way to spend ti...</td>\n",
       "      <td>[i, thought, this, was, a, wonderful, way, to,...</td>\n",
       "      <td>[thought, wonderful, way, spend, time, hot, su...</td>\n",
       "    </tr>\n",
       "    <tr>\n",
       "      <th>3</th>\n",
       "      <td>Basically there's a family where a little boy ...</td>\n",
       "      <td>negative</td>\n",
       "      <td>basically there's a family where a little boy ...</td>\n",
       "      <td>basically there s a family where a little boy ...</td>\n",
       "      <td>[basically, there, s, a, family, where, a, lit...</td>\n",
       "      <td>[basically, family, little, boy, jake, thinks,...</td>\n",
       "    </tr>\n",
       "    <tr>\n",
       "      <th>4</th>\n",
       "      <td>Petter Mattei's \"Love in the Time of Money\" is...</td>\n",
       "      <td>positive</td>\n",
       "      <td>petter mattei's \"love in the time of money\" is...</td>\n",
       "      <td>petter mattei s  love in the time of money  is...</td>\n",
       "      <td>[petter, mattei, s, love, in, the, time, of, m...</td>\n",
       "      <td>[petter, mattei, love, time, money, visually, ...</td>\n",
       "    </tr>\n",
       "  </tbody>\n",
       "</table>\n",
       "</div>"
      ],
      "text/plain": [
       "                                              review sentiment  \\\n",
       "0  One of the other reviewers has mentioned that ...  positive   \n",
       "1  A wonderful little production. <br /><br />The...  positive   \n",
       "2  I thought this was a wonderful way to spend ti...  positive   \n",
       "3  Basically there's a family where a little boy ...  negative   \n",
       "4  Petter Mattei's \"Love in the Time of Money\" is...  positive   \n",
       "\n",
       "                                    review_w/o_space  \\\n",
       "0  one of the other reviewers has mentioned that ...   \n",
       "1  a wonderful little production. <br /><br />the...   \n",
       "2  i thought this was a wonderful way to spend ti...   \n",
       "3  basically there's a family where a little boy ...   \n",
       "4  petter mattei's \"love in the time of money\" is...   \n",
       "\n",
       "                                          review_lem  \\\n",
       "0  one of the other reviewers has mentioned that ...   \n",
       "1  a wonderful little production   br    br   the...   \n",
       "2  i thought this was a wonderful way to spend ti...   \n",
       "3  basically there s a family where a little boy ...   \n",
       "4  petter mattei s  love in the time of money  is...   \n",
       "\n",
       "                                    tokenized_review  \\\n",
       "0  [one, of, the, other, reviewers, has, mentione...   \n",
       "1  [a, wonderful, little, production, br, br, the...   \n",
       "2  [i, thought, this, was, a, wonderful, way, to,...   \n",
       "3  [basically, there, s, a, family, where, a, lit...   \n",
       "4  [petter, mattei, s, love, in, the, time, of, m...   \n",
       "\n",
       "                                     review_w/o_stop  \n",
       "0  [one, reviewers, mentioned, watching, numbr, o...  \n",
       "1  [wonderful, little, production, filming, techn...  \n",
       "2  [thought, wonderful, way, spend, time, hot, su...  \n",
       "3  [basically, family, little, boy, jake, thinks,...  \n",
       "4  [petter, mattei, love, time, money, visually, ...  "
      ]
     },
     "execution_count": 15,
     "metadata": {},
     "output_type": "execute_result"
    }
   ],
   "source": [
    "inputdata[\"review_w/o_stop\"] = inputdata[\"tokenized_review\"].apply(lambda x: [item for item in x if item not in stopwords])\n",
    "inputdata.head()"
   ]
  },
  {
   "cell_type": "markdown",
   "id": "77658005",
   "metadata": {},
   "source": [
    "# STEMMING"
   ]
  },
  {
   "cell_type": "code",
   "execution_count": 16,
   "id": "01682e6e",
   "metadata": {},
   "outputs": [],
   "source": [
    "processed_review = inputdata[\"review_w/o_stop\"].apply(lambda x: [stemmer.stem(i) for i in x]) "
   ]
  },
  {
   "cell_type": "code",
   "execution_count": 17,
   "id": "ef831d95",
   "metadata": {},
   "outputs": [],
   "source": [
    " for i in range(len(processed_review)):\n",
    "        processed_review[i] = ' '.join(processed_review[i])\n",
    "        review_p= processed_review"
   ]
  },
  {
   "cell_type": "code",
   "execution_count": 18,
   "id": "b9b77957",
   "metadata": {},
   "outputs": [],
   "source": [
    "inputdata['processed_review'] = review_p"
   ]
  },
  {
   "cell_type": "markdown",
   "id": "632214b3",
   "metadata": {},
   "source": [
    "# PROCESSED REVIEW"
   ]
  },
  {
   "cell_type": "code",
   "execution_count": 19,
   "id": "f6fe980e",
   "metadata": {},
   "outputs": [
    {
     "data": {
      "text/html": [
       "<div>\n",
       "<style scoped>\n",
       "    .dataframe tbody tr th:only-of-type {\n",
       "        vertical-align: middle;\n",
       "    }\n",
       "\n",
       "    .dataframe tbody tr th {\n",
       "        vertical-align: top;\n",
       "    }\n",
       "\n",
       "    .dataframe thead th {\n",
       "        text-align: right;\n",
       "    }\n",
       "</style>\n",
       "<table border=\"1\" class=\"dataframe\">\n",
       "  <thead>\n",
       "    <tr style=\"text-align: right;\">\n",
       "      <th></th>\n",
       "      <th>review</th>\n",
       "      <th>sentiment</th>\n",
       "      <th>review_w/o_space</th>\n",
       "      <th>review_lem</th>\n",
       "      <th>tokenized_review</th>\n",
       "      <th>review_w/o_stop</th>\n",
       "      <th>processed_review</th>\n",
       "    </tr>\n",
       "  </thead>\n",
       "  <tbody>\n",
       "    <tr>\n",
       "      <th>0</th>\n",
       "      <td>One of the other reviewers has mentioned that ...</td>\n",
       "      <td>positive</td>\n",
       "      <td>one of the other reviewers has mentioned that ...</td>\n",
       "      <td>one of the other reviewers has mentioned that ...</td>\n",
       "      <td>[one, of, the, other, reviewers, has, mentione...</td>\n",
       "      <td>[one, reviewers, mentioned, watching, numbr, o...</td>\n",
       "      <td>one review mention watch numbr oz episod hook ...</td>\n",
       "    </tr>\n",
       "    <tr>\n",
       "      <th>1</th>\n",
       "      <td>A wonderful little production. &lt;br /&gt;&lt;br /&gt;The...</td>\n",
       "      <td>positive</td>\n",
       "      <td>a wonderful little production. &lt;br /&gt;&lt;br /&gt;the...</td>\n",
       "      <td>a wonderful little production   br    br   the...</td>\n",
       "      <td>[a, wonderful, little, production, br, br, the...</td>\n",
       "      <td>[wonderful, little, production, filming, techn...</td>\n",
       "      <td>wonder littl product film techniqu unassum old...</td>\n",
       "    </tr>\n",
       "    <tr>\n",
       "      <th>2</th>\n",
       "      <td>I thought this was a wonderful way to spend ti...</td>\n",
       "      <td>positive</td>\n",
       "      <td>i thought this was a wonderful way to spend ti...</td>\n",
       "      <td>i thought this was a wonderful way to spend ti...</td>\n",
       "      <td>[i, thought, this, was, a, wonderful, way, to,...</td>\n",
       "      <td>[thought, wonderful, way, spend, time, hot, su...</td>\n",
       "      <td>thought wonder way spend time hot summer weeke...</td>\n",
       "    </tr>\n",
       "    <tr>\n",
       "      <th>3</th>\n",
       "      <td>Basically there's a family where a little boy ...</td>\n",
       "      <td>negative</td>\n",
       "      <td>basically there's a family where a little boy ...</td>\n",
       "      <td>basically there s a family where a little boy ...</td>\n",
       "      <td>[basically, there, s, a, family, where, a, lit...</td>\n",
       "      <td>[basically, family, little, boy, jake, thinks,...</td>\n",
       "      <td>basic famili littl boy jake think zombi closet...</td>\n",
       "    </tr>\n",
       "    <tr>\n",
       "      <th>4</th>\n",
       "      <td>Petter Mattei's \"Love in the Time of Money\" is...</td>\n",
       "      <td>positive</td>\n",
       "      <td>petter mattei's \"love in the time of money\" is...</td>\n",
       "      <td>petter mattei s  love in the time of money  is...</td>\n",
       "      <td>[petter, mattei, s, love, in, the, time, of, m...</td>\n",
       "      <td>[petter, mattei, love, time, money, visually, ...</td>\n",
       "      <td>petter mattei love time money visual stun film...</td>\n",
       "    </tr>\n",
       "  </tbody>\n",
       "</table>\n",
       "</div>"
      ],
      "text/plain": [
       "                                              review sentiment  \\\n",
       "0  One of the other reviewers has mentioned that ...  positive   \n",
       "1  A wonderful little production. <br /><br />The...  positive   \n",
       "2  I thought this was a wonderful way to spend ti...  positive   \n",
       "3  Basically there's a family where a little boy ...  negative   \n",
       "4  Petter Mattei's \"Love in the Time of Money\" is...  positive   \n",
       "\n",
       "                                    review_w/o_space  \\\n",
       "0  one of the other reviewers has mentioned that ...   \n",
       "1  a wonderful little production. <br /><br />the...   \n",
       "2  i thought this was a wonderful way to spend ti...   \n",
       "3  basically there's a family where a little boy ...   \n",
       "4  petter mattei's \"love in the time of money\" is...   \n",
       "\n",
       "                                          review_lem  \\\n",
       "0  one of the other reviewers has mentioned that ...   \n",
       "1  a wonderful little production   br    br   the...   \n",
       "2  i thought this was a wonderful way to spend ti...   \n",
       "3  basically there s a family where a little boy ...   \n",
       "4  petter mattei s  love in the time of money  is...   \n",
       "\n",
       "                                    tokenized_review  \\\n",
       "0  [one, of, the, other, reviewers, has, mentione...   \n",
       "1  [a, wonderful, little, production, br, br, the...   \n",
       "2  [i, thought, this, was, a, wonderful, way, to,...   \n",
       "3  [basically, there, s, a, family, where, a, lit...   \n",
       "4  [petter, mattei, s, love, in, the, time, of, m...   \n",
       "\n",
       "                                     review_w/o_stop  \\\n",
       "0  [one, reviewers, mentioned, watching, numbr, o...   \n",
       "1  [wonderful, little, production, filming, techn...   \n",
       "2  [thought, wonderful, way, spend, time, hot, su...   \n",
       "3  [basically, family, little, boy, jake, thinks,...   \n",
       "4  [petter, mattei, love, time, money, visually, ...   \n",
       "\n",
       "                                    processed_review  \n",
       "0  one review mention watch numbr oz episod hook ...  \n",
       "1  wonder littl product film techniqu unassum old...  \n",
       "2  thought wonder way spend time hot summer weeke...  \n",
       "3  basic famili littl boy jake think zombi closet...  \n",
       "4  petter mattei love time money visual stun film...  "
      ]
     },
     "execution_count": 19,
     "metadata": {},
     "output_type": "execute_result"
    }
   ],
   "source": [
    "inputdata.head()"
   ]
  },
  {
   "cell_type": "markdown",
   "id": "bed15a18",
   "metadata": {},
   "source": [
    "# RAW INPUT DATA & PROCESSED DATA"
   ]
  },
  {
   "cell_type": "code",
   "execution_count": 20,
   "id": "40950f93",
   "metadata": {},
   "outputs": [
    {
     "data": {
      "text/plain": [
       "0        One of the other reviewers has mentioned that ...\n",
       "1        A wonderful little production. <br /><br />The...\n",
       "2        I thought this was a wonderful way to spend ti...\n",
       "3        Basically there's a family where a little boy ...\n",
       "4        Petter Mattei's \"Love in the Time of Money\" is...\n",
       "                               ...                        \n",
       "49995    I thought this movie did a down right good job...\n",
       "49996    Bad plot, bad dialogue, bad acting, idiotic di...\n",
       "49997    I am a Catholic taught in parochial elementary...\n",
       "49998    I'm going to have to disagree with the previou...\n",
       "49999    No one expects the Star Trek movies to be high...\n",
       "Name: review, Length: 50000, dtype: object"
      ]
     },
     "execution_count": 20,
     "metadata": {},
     "output_type": "execute_result"
    }
   ],
   "source": [
    "inputdata.review"
   ]
  },
  {
   "cell_type": "code",
   "execution_count": 21,
   "id": "bbeb13e3",
   "metadata": {},
   "outputs": [
    {
     "data": {
      "text/plain": [
       "0        one review mention watch numbr oz episod hook ...\n",
       "1        wonder littl product film techniqu unassum old...\n",
       "2        thought wonder way spend time hot summer weeke...\n",
       "3        basic famili littl boy jake think zombi closet...\n",
       "4        petter mattei love time money visual stun film...\n",
       "                               ...                        \n",
       "49995    thought movi right good job creativ origin fir...\n",
       "49996    bad plot bad dialogu bad act idiot direct anno...\n",
       "49997    cathol taught parochi elementari school nun ta...\n",
       "49998    go disagre previou comment side maltin one sec...\n",
       "49999    one expect star trek movi high art fan expect ...\n",
       "Name: processed_review, Length: 50000, dtype: object"
      ]
     },
     "execution_count": 21,
     "metadata": {},
     "output_type": "execute_result"
    }
   ],
   "source": [
    "inputdata.processed_review"
   ]
  },
  {
   "cell_type": "markdown",
   "id": "a0ccb046",
   "metadata": {},
   "source": [
    "# ENCODING TARGET LABEL"
   ]
  },
  {
   "cell_type": "code",
   "execution_count": 22,
   "id": "face64f2",
   "metadata": {},
   "outputs": [],
   "source": [
    "labels = inputdata['sentiment']\n",
    "\n",
    "encoder = OneHotEncoder(sparse=False)\n",
    "\n",
    "labels = encoder.fit_transform(np.array(labels).reshape(-1, 1))"
   ]
  },
  {
   "cell_type": "markdown",
   "id": "049e91cc",
   "metadata": {},
   "source": [
    "# FEATURE EXTRACTION"
   ]
  },
  {
   "cell_type": "code",
   "execution_count": 23,
   "id": "89626453",
   "metadata": {},
   "outputs": [
    {
     "name": "stdout",
     "output_type": "stream",
     "text": [
      "['one reviewers mentioned watching numbr oz episode hooked right exactly happened first thing struck oz brutality unflinching scenes violence set right word go trust show faint hearted timid show pulls punches regards drugs sex violence hardcore classic use word called oz nickname given oswald maximum security state penitentary focuses mainly emerald city experimental section prison cells glass fronts face inwards privacy high agenda em city home many aryans muslims gangstas latinos christians italians irish scuffles death stares dodgy dealings shady agreements never far away would say main appeal show due fact goes shows dare forget pretty pictures painted mainstream audiences forget charm forget romance oz mess around first episode ever saw struck nasty surreal say ready watched developed taste oz got accustomed high levels graphic violence violence injustice crooked guards sold nickel inmates kill order get away well mannered middle class inmates turned prison bitches due lack street skills prison experience watching oz may become comfortable uncomfortable viewing thats get touch darker side']\n"
     ]
    }
   ],
   "source": [
    "def detokenize(text):\n",
    "    return TreebankWordDetokenizer().detokenize(text)\n",
    "\n",
    "reviewstop = inputdata['review_w/o_stop'] \n",
    "data1 = []\n",
    "\n",
    "for i in range(len(reviewstop)):\n",
    "    data1.append(detokenize(reviewstop[i]))\n",
    "print(data1[:1])"
   ]
  },
  {
   "cell_type": "code",
   "execution_count": 24,
   "id": "76558ee8",
   "metadata": {},
   "outputs": [],
   "source": [
    "data1 = np.array(data1)"
   ]
  },
  {
   "cell_type": "markdown",
   "id": "343f875b",
   "metadata": {},
   "source": [
    "# ONE HOT FEATURE (F1)"
   ]
  },
  {
   "cell_type": "code",
   "execution_count": 25,
   "id": "fdaea3cb",
   "metadata": {},
   "outputs": [
    {
     "name": "stdout",
     "output_type": "stream",
     "text": [
      "[[   0    0    0 ... 1064 3917  358]\n",
      " [   0    0    0 ... 1811   13  114]\n",
      " [   0    0    0 ...   52   12  234]\n",
      " ...\n",
      " [   0    0    0 ...  238  367 3805]\n",
      " [   0    0    0 ... 1923 4003  597]\n",
      " [   0    0    0 ... 4263  652    1]]\n"
     ]
    }
   ],
   "source": [
    "max_words = 5000\n",
    "max_len = 200\n",
    "\n",
    "tokenizer = Tokenizer(num_words=max_words)\n",
    "tokenizer.fit_on_texts(data1)\n",
    "sequences = tokenizer.texts_to_sequences(data1)\n",
    "feature_1 = pad_sequences(sequences, maxlen=max_len)\n",
    "print(feature_1)"
   ]
  },
  {
   "cell_type": "code",
   "execution_count": 26,
   "id": "665a3469",
   "metadata": {},
   "outputs": [
    {
     "data": {
      "text/plain": [
       "(50000, 200)"
      ]
     },
     "execution_count": 26,
     "metadata": {},
     "output_type": "execute_result"
    }
   ],
   "source": [
    "feature_1.shape"
   ]
  },
  {
   "cell_type": "code",
   "execution_count": 27,
   "id": "60db54a6",
   "metadata": {},
   "outputs": [
    {
     "data": {
      "text/plain": [
       "(50000, 2)"
      ]
     },
     "execution_count": 27,
     "metadata": {},
     "output_type": "execute_result"
    }
   ],
   "source": [
    "labels.shape"
   ]
  },
  {
   "cell_type": "code",
   "execution_count": 28,
   "id": "37e3dac5",
   "metadata": {},
   "outputs": [
    {
     "name": "stdout",
     "output_type": "stream",
     "text": [
      "37500 12500 37500 12500\n"
     ]
    }
   ],
   "source": [
    "X_train, X_test, y_train, y_test = train_test_split(feature_1,labels, random_state=0)\n",
    "print (len(X_train),len(X_test),len(y_train),len(y_test))"
   ]
  },
  {
   "cell_type": "markdown",
   "id": "e25d9160",
   "metadata": {},
   "source": [
    "# LSTM MODEL"
   ]
  },
  {
   "cell_type": "code",
   "execution_count": 29,
   "id": "698db4a2",
   "metadata": {},
   "outputs": [],
   "source": [
    "model = Sequential()\n",
    "\n",
    "model.add(layers.Embedding(max_words, 20))\n",
    "\n",
    "model.add(layers.LSTM(15,dropout=0.5))\n",
    "\n",
    "model.add(layers.Flatten())\n",
    "model.add(layers.Dropout(0.25))\n",
    "\n",
    "model.add(layers.Dense(512,activation='relu'))\n",
    "model.add(layers.Dense(2,activation='sigmoid'))\n",
    "\n",
    "model.compile(optimizer='adam',loss='binary_crossentropy', metrics=['accuracy'])"
   ]
  },
  {
   "cell_type": "code",
   "execution_count": 30,
   "id": "dc5834c8",
   "metadata": {},
   "outputs": [
    {
     "name": "stdout",
     "output_type": "stream",
     "text": [
      "WARNING:tensorflow:`period` argument is deprecated. Please use `save_freq` to specify the frequency in number of batches seen.\n"
     ]
    }
   ],
   "source": [
    "checkpoint = ModelCheckpoint(\"best_model.hdf5\", monitor='val_accuracy', verbose=1,save_best_only=True, mode='auto',\n",
    "                             period=1,save_weights_only=False)"
   ]
  },
  {
   "cell_type": "markdown",
   "id": "b42b27e3",
   "metadata": {},
   "source": [
    "# TRAINING THE MODEL WITH F1"
   ]
  },
  {
   "cell_type": "code",
   "execution_count": 31,
   "id": "39d12380",
   "metadata": {},
   "outputs": [
    {
     "name": "stdout",
     "output_type": "stream",
     "text": [
      "Epoch 1/10\n",
      "20/20 [==============================] - 16s 599ms/step - loss: 0.6915 - accuracy: 0.5508 - val_loss: 0.6860 - val_accuracy: 0.6788\n",
      "\n",
      "Epoch 00001: val_accuracy improved from -inf to 0.67880, saving model to best_model.hdf5\n",
      "Epoch 2/10\n",
      "20/20 [==============================] - 11s 568ms/step - loss: 0.6522 - accuracy: 0.7214 - val_loss: 0.5620 - val_accuracy: 0.7925\n",
      "\n",
      "Epoch 00002: val_accuracy improved from 0.67880 to 0.79248, saving model to best_model.hdf5\n",
      "Epoch 3/10\n",
      "20/20 [==============================] - 11s 580ms/step - loss: 0.4165 - accuracy: 0.8297 - val_loss: 0.3475 - val_accuracy: 0.8530\n",
      "\n",
      "Epoch 00003: val_accuracy improved from 0.79248 to 0.85296, saving model to best_model.hdf5\n",
      "Epoch 4/10\n",
      "20/20 [==============================] - 12s 588ms/step - loss: 0.3055 - accuracy: 0.8758 - val_loss: 0.3055 - val_accuracy: 0.8732\n",
      "\n",
      "Epoch 00004: val_accuracy improved from 0.85296 to 0.87320, saving model to best_model.hdf5\n",
      "Epoch 5/10\n",
      "20/20 [==============================] - 11s 580ms/step - loss: 0.2648 - accuracy: 0.8945 - val_loss: 0.2920 - val_accuracy: 0.8796\n",
      "\n",
      "Epoch 00005: val_accuracy improved from 0.87320 to 0.87960, saving model to best_model.hdf5\n",
      "Epoch 6/10\n",
      "20/20 [==============================] - 12s 591ms/step - loss: 0.2471 - accuracy: 0.9031 - val_loss: 0.2903 - val_accuracy: 0.8811\n",
      "\n",
      "Epoch 00006: val_accuracy improved from 0.87960 to 0.88112, saving model to best_model.hdf5\n",
      "Epoch 7/10\n",
      "20/20 [==============================] - 12s 588ms/step - loss: 0.2357 - accuracy: 0.9086 - val_loss: 0.2916 - val_accuracy: 0.8817\n",
      "\n",
      "Epoch 00007: val_accuracy improved from 0.88112 to 0.88168, saving model to best_model.hdf5\n",
      "Epoch 8/10\n",
      "20/20 [==============================] - 11s 582ms/step - loss: 0.2261 - accuracy: 0.9136 - val_loss: 0.2935 - val_accuracy: 0.8808\n",
      "\n",
      "Epoch 00008: val_accuracy did not improve from 0.88168\n",
      "Epoch 9/10\n",
      "20/20 [==============================] - 12s 591ms/step - loss: 0.2195 - accuracy: 0.9156 - val_loss: 0.2985 - val_accuracy: 0.8807\n",
      "\n",
      "Epoch 00009: val_accuracy did not improve from 0.88168\n",
      "Epoch 10/10\n",
      "20/20 [==============================] - 12s 610ms/step - loss: 0.2175 - accuracy: 0.9175 - val_loss: 0.2958 - val_accuracy: 0.8802\n",
      "\n",
      "Epoch 00010: val_accuracy did not improve from 0.88168\n"
     ]
    }
   ],
   "source": [
    "history1 = model.fit(X_train, y_train,steps_per_epoch=20,epochs=10,validation_data=(X_test, y_test),callbacks=[checkpoint])"
   ]
  },
  {
   "cell_type": "markdown",
   "id": "6e6fbf6c",
   "metadata": {},
   "source": [
    "# ACCURACY & LOSS CURVE FOR LSTM MODEL WITH FEATURE F1"
   ]
  },
  {
   "cell_type": "code",
   "execution_count": 32,
   "id": "bc37b061",
   "metadata": {},
   "outputs": [
    {
     "data": {
      "image/png": "[encoded data removed]",
      "text/plain": [
       "<Figure size 432x288 with 1 Axes>"
      ]
     },
     "metadata": {
      "needs_background": "light"
     },
     "output_type": "display_data"
    },
    {
     "data": {
      "text/plain": [
       "<Figure size 432x288 with 0 Axes>"
      ]
     },
     "metadata": {},
     "output_type": "display_data"
    }
   ],
   "source": [
    "acc = history1.history['accuracy']\n",
    "val_acc = history1.history['val_accuracy']\n",
    "\n",
    "epochs = range(1, 11)\n",
    "\n",
    "plt.plot(epochs, acc, 'orange', label='Training acc')\n",
    "plt.plot(epochs, val_acc, 'b', label='Validation acc')\n",
    "plt.title('Training and validation accuracy for LSTM Model with word level one hot encoding as Feature')\n",
    "plt.xlabel('Epochs')\n",
    "plt.ylabel('Accuracy')\n",
    "plt.legend()\n",
    "plt.figure()\n",
    "plt.show()"
   ]
  },
  {
   "cell_type": "code",
   "execution_count": 33,
   "id": "a7f9fe34",
   "metadata": {},
   "outputs": [
    {
     "data": {
      "image/png": "[encoded data removed]",
      "text/plain": [
       "<Figure size 432x288 with 1 Axes>"
      ]
     },
     "metadata": {
      "needs_background": "light"
     },
     "output_type": "display_data"
    }
   ],
   "source": [
    "loss = history1.history['loss']\n",
    "val_loss = history1.history['val_loss']\n",
    "epochs = range(1, 11)\n",
    "plt.plot(epochs, loss, 'orange', label='Training loss')\n",
    "plt.plot(epochs, val_loss, 'b', label='Validation loss')\n",
    "plt.title('Training and validation loss for LSTM Model with word level one hot encoding as Feature')\n",
    "plt.xlabel('Epochs')\n",
    "plt.ylabel('Loss')\n",
    "plt.legend()\n",
    "plt.show()"
   ]
  },
  {
   "cell_type": "markdown",
   "id": "ffb24526",
   "metadata": {},
   "source": [
    "# EVALUATING LSTM MODEL WITH FEATURE F1"
   ]
  },
  {
   "cell_type": "code",
   "execution_count": 34,
   "id": "7bb1b2c5",
   "metadata": {},
   "outputs": [
    {
     "name": "stdout",
     "output_type": "stream",
     "text": [
      "Test loss: 0.2958442270755768\n",
      "Test accuracy: 0.8802400231361389\n"
     ]
    }
   ],
   "source": [
    "score1 = model.evaluate(X_test, y_test, verbose=0)\n",
    "print('Test loss:', score1[0])\n",
    "print('Test accuracy:', score1[1])"
   ]
  },
  {
   "cell_type": "markdown",
   "id": "39f9c6ee",
   "metadata": {},
   "source": [
    "# CONFUSION MATRIX"
   ]
  },
  {
   "cell_type": "code",
   "execution_count": 35,
   "id": "a72ae458",
   "metadata": {},
   "outputs": [
    {
     "data": {
      "image/png": "[encoded data removed]",
      "text/plain": [
       "<Figure size 144x144 with 1 Axes>"
      ]
     },
     "metadata": {
      "needs_background": "light"
     },
     "output_type": "display_data"
    }
   ],
   "source": [
    "fig = plt.figure(figsize=(2, 2)) \n",
    "\n",
    "y_preds = model.predict(X_test) \n",
    "\n",
    "Y_pred = np.argmax(y_preds, 1) \n",
    "Y_test = np.argmax(y_test, 1) \n",
    "\n",
    "mat = confusion_matrix(Y_test, Y_pred) \n",
    "\n",
    "sns.heatmap(mat.T, square=True, annot=True, cbar=False, cmap=plt.cm.Blues)\n",
    "plt.title('Confusion Matrix for  LSTM Model with word level one hot encoding as Feature ')\n",
    "plt.xlabel('Predicted Values')\n",
    "plt.ylabel('True Values');\n",
    "plt.show();"
   ]
  },
  {
   "cell_type": "markdown",
   "id": "de61e1e5",
   "metadata": {},
   "source": [
    "# NAIVE BAYES MODEL WITH FEATURE F1"
   ]
  },
  {
   "cell_type": "code",
   "execution_count": 36,
   "id": "1c181cf1",
   "metadata": {},
   "outputs": [
    {
     "data": {
      "text/plain": [
       "0        1\n",
       "1        1\n",
       "2        1\n",
       "3        0\n",
       "4        1\n",
       "        ..\n",
       "49995    1\n",
       "49996    0\n",
       "49997    0\n",
       "49998    0\n",
       "49999    0\n",
       "Name: sentiment, Length: 50000, dtype: int64"
      ]
     },
     "execution_count": 36,
     "metadata": {},
     "output_type": "execute_result"
    }
   ],
   "source": [
    "y = inputdata['sentiment'].replace({'negative': 0, 'positive': 1})\n",
    "X_train_1, X_test_1, y_train_1, y_test_1 = train_test_split(feature_1,y, random_state=0)\n",
    "y"
   ]
  },
  {
   "cell_type": "code",
   "execution_count": 37,
   "id": "f3ae5373",
   "metadata": {},
   "outputs": [
    {
     "name": "stdout",
     "output_type": "stream",
     "text": [
      "              precision    recall  f1-score   support\n",
      "\n",
      "           0       0.51      0.80      0.62      6291\n",
      "           1       0.53      0.23      0.32      6209\n",
      "\n",
      "    accuracy                           0.51     12500\n",
      "   macro avg       0.52      0.51      0.47     12500\n",
      "weighted avg       0.52      0.51      0.47     12500\n",
      "\n",
      "Naive Bayes, Accuracy Score: 0.51424\n",
      " \n",
      "Confusion Matrix\n",
      "[[5009 1282]\n",
      " [4790 1419]]\n"
     ]
    }
   ],
   "source": [
    "nb=GaussianNB()\n",
    "nb.fit(X_train_1,y_train_1)\n",
    "y_preds_1 = nb.predict(X_test_1)\n",
    "ac_1=accuracy_score(y_test_1,y_preds_1)\n",
    "report = classification_report( y_test_1, y_preds_1 )\n",
    "print(report)\n",
    "print(\"Naive Bayes, Accuracy Score:\",ac_1)\n",
    "\n",
    "print(\" \")\n",
    "print(\"Confusion Matrix\")\n",
    "cm = confusion_matrix(y_test_1,y_preds_1)\n",
    "print(cm)"
   ]
  },
  {
   "cell_type": "markdown",
   "id": "d1ce382b",
   "metadata": {},
   "source": [
    "# COMPARISON OF LSTM & NAIVE BAYES MODEL"
   ]
  },
  {
   "cell_type": "code",
   "execution_count": 38,
   "id": "6f65ac94",
   "metadata": {},
   "outputs": [
    {
     "data": {
      "image/png": "[encoded data removed]",
      "text/plain": [
       "<Figure size 432x288 with 1 Axes>"
      ]
     },
     "metadata": {
      "needs_background": "light"
     },
     "output_type": "display_data"
    }
   ],
   "source": [
    "objects = ('LSTM', 'Naive_bayes')\n",
    "y_pos = np.arange(len(objects))\n",
    "performance = [score1[1],ac_1]\n",
    "plt.bar(y_pos, performance, align='center', alpha=0.5,color=['red', 'purple'])\n",
    "plt.xticks(y_pos, objects)\n",
    "plt.ylabel('Accuracy')\n",
    "plt.title('Algorithm Comparision for Onehot feature')\n",
    "plt.show()"
   ]
  },
  {
   "cell_type": "markdown",
   "id": "de510949",
   "metadata": {},
   "source": [
    "# TFIDF FEATURE (F2)"
   ]
  },
  {
   "cell_type": "code",
   "execution_count": 39,
   "id": "d3619c0d",
   "metadata": {},
   "outputs": [
    {
     "data": {
      "text/plain": [
       "array([[0.        , 0.        , 0.        , ..., 0.        , 0.        ,\n",
       "        0.        ],\n",
       "       [0.        , 0.        , 0.        , ..., 0.        , 0.        ,\n",
       "        0.        ],\n",
       "       [0.        , 0.        , 0.        , ..., 0.        , 0.        ,\n",
       "        0.14010715],\n",
       "       ...,\n",
       "       [0.        , 0.        , 0.19097554, ..., 0.        , 0.        ,\n",
       "        0.        ],\n",
       "       [0.        , 0.        , 0.        , ..., 0.        , 0.        ,\n",
       "        0.        ],\n",
       "       [0.        , 0.        , 0.        , ..., 0.        , 0.        ,\n",
       "        0.        ]])"
      ]
     },
     "execution_count": 39,
     "metadata": {},
     "output_type": "execute_result"
    }
   ],
   "source": [
    "tfidf_vectorizer = TfidfVectorizer(ngram_range=(1, 2),max_df=0.75, min_df=5, max_features=500)\n",
    "feature_2 = tfidf_vectorizer.fit_transform(inputdata['processed_review'] ).toarray()\n",
    "feature_2"
   ]
  },
  {
   "cell_type": "code",
   "execution_count": 40,
   "id": "5ea7391f",
   "metadata": {},
   "outputs": [
    {
     "data": {
      "text/plain": [
       "(50000, 500)"
      ]
     },
     "execution_count": 40,
     "metadata": {},
     "output_type": "execute_result"
    }
   ],
   "source": [
    "feature_2.shape"
   ]
  },
  {
   "cell_type": "code",
   "execution_count": 41,
   "id": "f2975182",
   "metadata": {},
   "outputs": [],
   "source": [
    "X = feature_2\n",
    "X_train1, X_test1, y_train1, y_test1 = train_test_split(X, labels, random_state=42, test_size=0.2)"
   ]
  },
  {
   "cell_type": "markdown",
   "id": "94a4af26",
   "metadata": {},
   "source": [
    "# TRAINING THE LSTM MODEL"
   ]
  },
  {
   "cell_type": "code",
   "execution_count": 42,
   "id": "8194d1a9",
   "metadata": {},
   "outputs": [
    {
     "name": "stdout",
     "output_type": "stream",
     "text": [
      "Epoch 1/10\n",
      "20/20 [==============================] - 38s 2s/step - loss: 0.7125 - accuracy: 0.5015 - val_loss: 0.6939 - val_accuracy: 0.4961\n",
      "\n",
      "Epoch 00001: val_accuracy did not improve from 0.88168\n",
      "Epoch 2/10\n",
      "20/20 [==============================] - 41s 2s/step - loss: 0.6986 - accuracy: 0.4979 - val_loss: 0.6931 - val_accuracy: 0.5039\n",
      "\n",
      "Epoch 00002: val_accuracy did not improve from 0.88168\n",
      "Epoch 3/10\n",
      "20/20 [==============================] - 44s 2s/step - loss: 0.6956 - accuracy: 0.4993 - val_loss: 0.6931 - val_accuracy: 0.5039\n",
      "\n",
      "Epoch 00003: val_accuracy did not improve from 0.88168\n",
      "Epoch 4/10\n",
      "20/20 [==============================] - 45s 2s/step - loss: 0.6956 - accuracy: 0.4964 - val_loss: 0.6934 - val_accuracy: 0.4961\n",
      "\n",
      "Epoch 00004: val_accuracy did not improve from 0.88168\n",
      "Epoch 5/10\n",
      "20/20 [==============================] - 45s 2s/step - loss: 0.6947 - accuracy: 0.4984 - val_loss: 0.6938 - val_accuracy: 0.4961\n",
      "\n",
      "Epoch 00005: val_accuracy did not improve from 0.88168\n",
      "Epoch 6/10\n",
      "20/20 [==============================] - 46s 2s/step - loss: 0.6943 - accuracy: 0.4981 - val_loss: 0.6931 - val_accuracy: 0.5039\n",
      "\n",
      "Epoch 00006: val_accuracy did not improve from 0.88168\n",
      "Epoch 7/10\n",
      "20/20 [==============================] - 47s 2s/step - loss: 0.6940 - accuracy: 0.4998 - val_loss: 0.6931 - val_accuracy: 0.5039\n",
      "\n",
      "Epoch 00007: val_accuracy did not improve from 0.88168\n",
      "Epoch 8/10\n",
      "20/20 [==============================] - 45s 2s/step - loss: 0.6938 - accuracy: 0.5003 - val_loss: 0.6932 - val_accuracy: 0.4961\n",
      "\n",
      "Epoch 00008: val_accuracy did not improve from 0.88168\n",
      "Epoch 9/10\n",
      "20/20 [==============================] - 45s 2s/step - loss: 0.6939 - accuracy: 0.4967 - val_loss: 0.6932 - val_accuracy: 0.4961\n",
      "\n",
      "Epoch 00009: val_accuracy did not improve from 0.88168\n",
      "Epoch 10/10\n",
      "20/20 [==============================] - 47s 2s/step - loss: 0.6938 - accuracy: 0.5004 - val_loss: 0.6931 - val_accuracy: 0.5039\n",
      "\n",
      "Epoch 00010: val_accuracy did not improve from 0.88168\n"
     ]
    }
   ],
   "source": [
    "history2 = model.fit(X_train1, y_train1, steps_per_epoch=20, epochs=10,  validation_data=(X_test1, y_test1),\n",
    "                     callbacks=[checkpoint])"
   ]
  },
  {
   "cell_type": "markdown",
   "id": "209a4fb6",
   "metadata": {},
   "source": [
    "# ACCURACY & LOSS CURVE FOR LSTM MODEL WITH FEATURE F2"
   ]
  },
  {
   "cell_type": "code",
   "execution_count": 43,
   "id": "bc2c14db",
   "metadata": {},
   "outputs": [
    {
     "data": {
      "image/png": "[encoded data removed]",
      "text/plain": [
       "<Figure size 432x288 with 1 Axes>"
      ]
     },
     "metadata": {
      "needs_background": "light"
     },
     "output_type": "display_data"
    },
    {
     "data": {
      "text/plain": [
       "<Figure size 432x288 with 0 Axes>"
      ]
     },
     "metadata": {},
     "output_type": "display_data"
    }
   ],
   "source": [
    "acc = history2.history['accuracy']\n",
    "val_acc = history2.history['val_accuracy']\n",
    "\n",
    "epochs = range(1, 11)\n",
    "\n",
    "plt.plot(epochs, acc, 'green', label='Training acc')\n",
    "plt.plot(epochs, val_acc, 'black', label='Validation acc')\n",
    "plt.title('Training and validation accuracy for LSTM Model with TFIDF Feature')\n",
    "plt.xlabel('Epochs')\n",
    "plt.ylabel('Accuracy')\n",
    "plt.legend()\n",
    "plt.figure()\n",
    "plt.show()"
   ]
  },
  {
   "cell_type": "code",
   "execution_count": 44,
   "id": "be5dc275",
   "metadata": {},
   "outputs": [
    {
     "data": {
      "image/png": "[encoded data removed]",
      "text/plain": [
       "<Figure size 432x288 with 1 Axes>"
      ]
     },
     "metadata": {
      "needs_background": "light"
     },
     "output_type": "display_data"
    }
   ],
   "source": [
    "loss = history2.history['loss']\n",
    "val_loss = history2.history['val_loss']\n",
    "\n",
    "epochs = range(1, 11)\n",
    "\n",
    "plt.plot(epochs, loss, 'green', label='Training loss')\n",
    "plt.plot(epochs, val_loss, 'black', label='Validation loss')\n",
    "plt.title('Training and validation loss for LSTM Model with TFIDF Feature')\n",
    "plt.xlabel('Epochs')\n",
    "plt.ylabel('Loss')\n",
    "plt.legend()\n",
    "plt.show()"
   ]
  },
  {
   "cell_type": "markdown",
   "id": "0453a602",
   "metadata": {},
   "source": [
    "# EVALUATING THE MODEL WITH FEATURE F2"
   ]
  },
  {
   "cell_type": "code",
   "execution_count": 45,
   "id": "cb021b61",
   "metadata": {},
   "outputs": [
    {
     "name": "stdout",
     "output_type": "stream",
     "text": [
      "Test loss: 0.693137526512146\n",
      "Test accuracy: 0.5038999915122986\n"
     ]
    }
   ],
   "source": [
    "score2 = model.evaluate(X_test1, y_test1, verbose=0)\n",
    "print('Test loss:', score2[0])\n",
    "print('Test accuracy:', score2[1])"
   ]
  },
  {
   "cell_type": "markdown",
   "id": "00ca7ae5",
   "metadata": {},
   "source": [
    "# CONFUSION MATRIX"
   ]
  },
  {
   "cell_type": "code",
   "execution_count": 46,
   "id": "4d1bd464",
   "metadata": {},
   "outputs": [
    {
     "data": {
      "image/png": "[encoded data removed]",
      "text/plain": [
       "<Figure size 144x144 with 1 Axes>"
      ]
     },
     "metadata": {
      "needs_background": "light"
     },
     "output_type": "display_data"
    }
   ],
   "source": [
    "fig = plt.figure(figsize=(2, 2)) \n",
    "y_preds = model.predict(X_test1) \n",
    "\n",
    "Y_pred = np.argmax(y_preds, 1) \n",
    "Y_test = np.argmax(y_test1, 1) \n",
    "\n",
    "mat = confusion_matrix(Y_test, Y_pred) \n",
    "\n",
    "sns.heatmap(mat.T, square=True, annot=True, cbar=False, cmap=plt.cm.Blues)\n",
    "plt.title('Confusion Matrix for LSTM Model with TFIDF Feature')\n",
    "plt.xlabel('Predicted Values')\n",
    "plt.ylabel('True Values');\n",
    "plt.show();"
   ]
  },
  {
   "cell_type": "markdown",
   "id": "d5d7b3e1",
   "metadata": {},
   "source": [
    "# NAIVE BAYES MODEL WITH FEATURE F2"
   ]
  },
  {
   "cell_type": "code",
   "execution_count": 47,
   "id": "7df22853",
   "metadata": {},
   "outputs": [
    {
     "name": "stdout",
     "output_type": "stream",
     "text": [
      "              precision    recall  f1-score   support\n",
      "\n",
      "           0       0.81      0.80      0.81      6291\n",
      "           1       0.80      0.82      0.81      6209\n",
      "\n",
      "    accuracy                           0.81     12500\n",
      "   macro avg       0.81      0.81      0.81     12500\n",
      "weighted avg       0.81      0.81      0.81     12500\n",
      "\n",
      "Naive Bayes, Accuracy Score: 0.80624\n",
      " \n",
      "Confusion Matrix\n",
      "[[5008 1283]\n",
      " [1139 5070]]\n"
     ]
    }
   ],
   "source": [
    "X_train_2, X_test_2, y_train_2, y_test_2 = train_test_split(feature_2,y, random_state=0)\n",
    "nb=GaussianNB()\n",
    "nb.fit(X_train_2,y_train_2)\n",
    "y_preds_2 = nb.predict(X_test_2)\n",
    "ac_2=accuracy_score(y_test_2,y_preds_2)\n",
    "report = classification_report( y_test_2, y_preds_2 )\n",
    "print(report)\n",
    "print(\"Naive Bayes, Accuracy Score:\",ac_2)\n",
    "\n",
    "print(\" \")\n",
    "print(\"Confusion Matrix\")\n",
    "cm = confusion_matrix(y_test_2,y_preds_2)\n",
    "print(cm)"
   ]
  },
  {
   "cell_type": "markdown",
   "id": "0af4e47d",
   "metadata": {},
   "source": [
    "# COMPARISON OF LSTM & NAIVE BAYES MODEL"
   ]
  },
  {
   "cell_type": "code",
   "execution_count": 48,
   "id": "286f8c93",
   "metadata": {},
   "outputs": [
    {
     "data": {
      "image/png": "[encoded data removed]",
      "text/plain": [
       "<Figure size 432x288 with 1 Axes>"
      ]
     },
     "metadata": {
      "needs_background": "light"
     },
     "output_type": "display_data"
    }
   ],
   "source": [
    "objects = ('LSTM', 'Naive_bayes')\n",
    "y_pos = np.arange(len(objects))\n",
    "performance = [score2[1],ac_2]\n",
    "plt.bar(y_pos, performance, align='center', alpha=0.5,color=['red', 'purple'])\n",
    "plt.xticks(y_pos, objects)\n",
    "plt.ylabel('Accuracy')\n",
    "plt.title('Algorithm Comparision for TFIDF feature')\n",
    "plt.show()"
   ]
  },
  {
   "cell_type": "markdown",
   "id": "d7901596",
   "metadata": {},
   "source": [
    "# BAG OF WORDS FEATURE (F3)"
   ]
  },
  {
   "cell_type": "code",
   "execution_count": 49,
   "id": "c561e35e",
   "metadata": {},
   "outputs": [
    {
     "data": {
      "text/plain": [
       "array([[0, 0, 0, ..., 0, 0, 0],\n",
       "       [0, 0, 0, ..., 0, 0, 0],\n",
       "       [0, 0, 0, ..., 0, 0, 0],\n",
       "       ...,\n",
       "       [0, 0, 0, ..., 0, 0, 0],\n",
       "       [0, 0, 0, ..., 0, 0, 0],\n",
       "       [0, 0, 0, ..., 0, 0, 0]], dtype=int64)"
      ]
     },
     "execution_count": 49,
     "metadata": {},
     "output_type": "execute_result"
    }
   ],
   "source": [
    "bow_vectorizer = CountVectorizer( max_features=100, stop_words='english', ngram_range=(2,2))\n",
    "feature_3=bow_vectorizer.fit_transform(inputdata['processed_review'] ).toarray()\n",
    "feature_3"
   ]
  },
  {
   "cell_type": "code",
   "execution_count": 50,
   "id": "8cf81ad4",
   "metadata": {},
   "outputs": [
    {
     "data": {
      "text/plain": [
       "(50000, 100)"
      ]
     },
     "execution_count": 50,
     "metadata": {},
     "output_type": "execute_result"
    }
   ],
   "source": [
    "feature_3.shape"
   ]
  },
  {
   "cell_type": "code",
   "execution_count": 51,
   "id": "d83a654d",
   "metadata": {},
   "outputs": [],
   "source": [
    "X = feature_3\n",
    "X_train2, X_test2, y_train2, y_test2 = train_test_split(X, labels, random_state=42, test_size=0.2)"
   ]
  },
  {
   "cell_type": "markdown",
   "id": "4e7ab995",
   "metadata": {},
   "source": [
    "# TRAINING THE LSTM MODEL"
   ]
  },
  {
   "cell_type": "code",
   "execution_count": 52,
   "id": "80e1b7fe",
   "metadata": {},
   "outputs": [
    {
     "name": "stdout",
     "output_type": "stream",
     "text": [
      "Epoch 1/10\n",
      "20/20 [==============================] - 8s 348ms/step - loss: 0.6928 - accuracy: 0.5050 - val_loss: 0.6929 - val_accuracy: 0.4961\n",
      "\n",
      "Epoch 00001: val_accuracy did not improve from 0.88168\n",
      "Epoch 2/10\n",
      "20/20 [==============================] - 6s 310ms/step - loss: 0.6927 - accuracy: 0.5124 - val_loss: 0.6925 - val_accuracy: 0.4961\n",
      "\n",
      "Epoch 00002: val_accuracy did not improve from 0.88168\n",
      "Epoch 3/10\n",
      "20/20 [==============================] - 6s 312ms/step - loss: 0.6926 - accuracy: 0.5142 - val_loss: 0.6917 - val_accuracy: 0.5536\n",
      "\n",
      "Epoch 00003: val_accuracy did not improve from 0.88168\n",
      "Epoch 4/10\n",
      "20/20 [==============================] - 6s 328ms/step - loss: 0.6919 - accuracy: 0.5183 - val_loss: 0.6912 - val_accuracy: 0.5550\n",
      "\n",
      "Epoch 00004: val_accuracy did not improve from 0.88168\n",
      "Epoch 5/10\n",
      "20/20 [==============================] - 6s 318ms/step - loss: 0.6913 - accuracy: 0.5256 - val_loss: 0.6904 - val_accuracy: 0.5546\n",
      "\n",
      "Epoch 00005: val_accuracy did not improve from 0.88168\n",
      "Epoch 6/10\n",
      "20/20 [==============================] - 6s 323ms/step - loss: 0.6910 - accuracy: 0.5260 - val_loss: 0.6899 - val_accuracy: 0.5373\n",
      "\n",
      "Epoch 00006: val_accuracy did not improve from 0.88168\n",
      "Epoch 7/10\n",
      "20/20 [==============================] - 6s 323ms/step - loss: 0.6903 - accuracy: 0.5347 - val_loss: 0.6887 - val_accuracy: 0.5529\n",
      "\n",
      "Epoch 00007: val_accuracy did not improve from 0.88168\n",
      "Epoch 8/10\n",
      "20/20 [==============================] - 6s 310ms/step - loss: 0.6895 - accuracy: 0.5368 - val_loss: 0.6881 - val_accuracy: 0.5519\n",
      "\n",
      "Epoch 00008: val_accuracy did not improve from 0.88168\n",
      "Epoch 9/10\n",
      "20/20 [==============================] - 7s 331ms/step - loss: 0.6885 - accuracy: 0.5407 - val_loss: 0.6872 - val_accuracy: 0.5515\n",
      "\n",
      "Epoch 00009: val_accuracy did not improve from 0.88168\n",
      "Epoch 10/10\n",
      "20/20 [==============================] - 6s 324ms/step - loss: 0.6883 - accuracy: 0.5417 - val_loss: 0.6867 - val_accuracy: 0.5547\n",
      "\n",
      "Epoch 00010: val_accuracy did not improve from 0.88168\n"
     ]
    }
   ],
   "source": [
    "history3 = model.fit(X_train2, y_train2, epochs=10, steps_per_epoch=20, validation_data=(X_test2, y_test2),\n",
    "                     callbacks=[checkpoint])"
   ]
  },
  {
   "cell_type": "markdown",
   "id": "f3bce92c",
   "metadata": {},
   "source": [
    "# ACCURACY & LOSS CURVES FOR LSTM MODEL WITH FEATURE F3"
   ]
  },
  {
   "cell_type": "code",
   "execution_count": 53,
   "id": "9339b94b",
   "metadata": {},
   "outputs": [
    {
     "data": {
      "image/png": "[encoded data removed]",
      "text/plain": [
       "<Figure size 432x288 with 1 Axes>"
      ]
     },
     "metadata": {
      "needs_background": "light"
     },
     "output_type": "display_data"
    },
    {
     "data": {
      "text/plain": [
       "<Figure size 432x288 with 0 Axes>"
      ]
     },
     "metadata": {},
     "output_type": "display_data"
    }
   ],
   "source": [
    "acc = history3.history['accuracy']\n",
    "val_acc = history3.history['val_accuracy']\n",
    "\n",
    "epochs = range(1, 11)\n",
    "\n",
    "plt.plot(epochs, acc, 'purple', label='Training acc')\n",
    "plt.plot(epochs, val_acc, 'red', label='Validation acc')\n",
    "plt.title('Training and validation accuracy for LSTM Model with Bag of words Feature')\n",
    "plt.xlabel('Epochs')\n",
    "plt.ylabel('Accuracy')\n",
    "plt.legend()\n",
    "plt.figure()\n",
    "plt.show()"
   ]
  },
  {
   "cell_type": "code",
   "execution_count": 54,
   "id": "e8694210",
   "metadata": {},
   "outputs": [
    {
     "data": {
      "image/png": "[encoded data removed]",
      "text/plain": [
       "<Figure size 432x288 with 1 Axes>"
      ]
     },
     "metadata": {
      "needs_background": "light"
     },
     "output_type": "display_data"
    }
   ],
   "source": [
    "loss = history3.history['loss']\n",
    "val_loss = history3.history['val_loss']\n",
    "\n",
    "epochs = range(1, 11)\n",
    "\n",
    "plt.plot(epochs, loss, 'purple', label='Training loss')\n",
    "plt.plot(epochs, val_loss, 'red', label='Validation loss')\n",
    "plt.title('Training and validation loss for LSTM Model with Bag of words Feature')\n",
    "plt.xlabel('Epochs')\n",
    "plt.ylabel('Loss')\n",
    "plt.legend()\n",
    "plt.show()"
   ]
  },
  {
   "cell_type": "markdown",
   "id": "94252a49",
   "metadata": {},
   "source": [
    "# EVALUATE THE MODEL WITH FEATURE F3"
   ]
  },
  {
   "cell_type": "code",
   "execution_count": 55,
   "id": "45069a9b",
   "metadata": {},
   "outputs": [
    {
     "name": "stdout",
     "output_type": "stream",
     "text": [
      "Test loss: 0.6867079138755798\n",
      "Test accuracy: 0.5547000169754028\n"
     ]
    }
   ],
   "source": [
    "score3 = model.evaluate(X_test2, y_test2, verbose=0)\n",
    "print('Test loss:', score3[0])\n",
    "print('Test accuracy:', score3[1])"
   ]
  },
  {
   "cell_type": "markdown",
   "id": "95c96762",
   "metadata": {},
   "source": [
    "# CONFUSION MATRIX"
   ]
  },
  {
   "cell_type": "code",
   "execution_count": 56,
   "id": "2119b992",
   "metadata": {},
   "outputs": [
    {
     "data": {
      "image/png": "[encoded data removed]",
      "text/plain": [
       "<Figure size 144x144 with 1 Axes>"
      ]
     },
     "metadata": {
      "needs_background": "light"
     },
     "output_type": "display_data"
    }
   ],
   "source": [
    "fig = plt.figure(figsize=(2, 2)) \n",
    "\n",
    "y_preds = model.predict(X_test2) \n",
    "\n",
    "Y_pred = np.argmax(y_preds, 1) \n",
    "Y_test = np.argmax(y_test2, 1) \n",
    "\n",
    "mat = confusion_matrix(Y_test, Y_pred) \n",
    "\n",
    "sns.heatmap(mat.T, square=True, annot=True, cbar=False, cmap=plt.cm.Blues)\n",
    "plt.title('Confusion Matrix for LSTM Model with Bag of words Feature')\n",
    "plt.xlabel('Predicted Values')\n",
    "plt.ylabel('True Values');\n",
    "plt.show();"
   ]
  },
  {
   "cell_type": "markdown",
   "id": "69b4ec76",
   "metadata": {},
   "source": [
    "# NAIVE BAYES MODEL WITH FEATURE F3"
   ]
  },
  {
   "cell_type": "code",
   "execution_count": 57,
   "id": "ff6707a3",
   "metadata": {},
   "outputs": [
    {
     "name": "stdout",
     "output_type": "stream",
     "text": [
      "              precision    recall  f1-score   support\n",
      "\n",
      "           0       0.74      0.45      0.56      6291\n",
      "           1       0.60      0.84      0.70      6209\n",
      "\n",
      "    accuracy                           0.64     12500\n",
      "   macro avg       0.67      0.64      0.63     12500\n",
      "weighted avg       0.67      0.64      0.63     12500\n",
      "\n",
      "Naive Bayes, Accuracy Score: 0.6424\n",
      " \n",
      "Confusion Matrix\n",
      "[[2801 3490]\n",
      " [ 980 5229]]\n"
     ]
    }
   ],
   "source": [
    "X_train_3, X_test_3, y_train_3, y_test_3 = train_test_split(feature_3,y, random_state=0)\n",
    "nb=GaussianNB()\n",
    "nb.fit(X_train_3,y_train_3)\n",
    "y_preds_3 = nb.predict(X_test_3)\n",
    "ac_3=accuracy_score(y_test_3,y_preds_3)\n",
    "report = classification_report( y_test_3, y_preds_3 )\n",
    "print(report)\n",
    "print(\"Naive Bayes, Accuracy Score:\",ac_3)\n",
    "\n",
    "print(\" \")\n",
    "print(\"Confusion Matrix\")\n",
    "cm = confusion_matrix(y_test_3,y_preds_3)\n",
    "print(cm)"
   ]
  },
  {
   "cell_type": "markdown",
   "id": "c8ca489f",
   "metadata": {},
   "source": [
    "# COMPARISON OF LSTM MODEL & NAIVE BAYES MODEL"
   ]
  },
  {
   "cell_type": "code",
   "execution_count": 58,
   "id": "6ce8e921",
   "metadata": {},
   "outputs": [
    {
     "data": {
      "image/png": "[encoded data removed]",
      "text/plain": [
       "<Figure size 432x288 with 1 Axes>"
      ]
     },
     "metadata": {
      "needs_background": "light"
     },
     "output_type": "display_data"
    }
   ],
   "source": [
    "objects = ('LSTM', 'Naive_bayes')\n",
    "y_pos = np.arange(len(objects))\n",
    "performance = [score3[1],ac_3]\n",
    "plt.bar(y_pos, performance, align='center', alpha=0.5,color=['red', 'purple'])\n",
    "plt.xticks(y_pos, objects)\n",
    "plt.ylabel('Accuracy')\n",
    "plt.title('Algorithm Comparision for Bagofwords feature')\n",
    "plt.show()"
   ]
  },
  {
   "cell_type": "markdown",
   "id": "5e1e0272",
   "metadata": {},
   "source": [
    "# COMBINING F1+F2+F3"
   ]
  },
  {
   "cell_type": "code",
   "execution_count": 59,
   "id": "aa816e93",
   "metadata": {},
   "outputs": [
    {
     "data": {
      "text/plain": [
       "(50000, 800)"
      ]
     },
     "execution_count": 59,
     "metadata": {},
     "output_type": "execute_result"
    }
   ],
   "source": [
    "modelling_features = np.concatenate([feature_1,feature_2,feature_3],axis=1)\n",
    "modelling_features.shape"
   ]
  },
  {
   "cell_type": "code",
   "execution_count": 60,
   "id": "af3d63e2",
   "metadata": {},
   "outputs": [],
   "source": [
    "X = modelling_features\n",
    "X_train3, X_test3, y_train3, y_test3 = train_test_split(X, labels, random_state=42, test_size=0.2)"
   ]
  },
  {
   "cell_type": "markdown",
   "id": "3c9dfa5a",
   "metadata": {},
   "source": [
    "# TRAINING THE LSTM MODEL"
   ]
  },
  {
   "cell_type": "code",
   "execution_count": 61,
   "id": "9a7d0b25",
   "metadata": {},
   "outputs": [
    {
     "name": "stdout",
     "output_type": "stream",
     "text": [
      "Epoch 1/10\n",
      "20/20 [==============================] - 94s 4s/step - loss: 0.6877 - accuracy: 0.5416 - val_loss: 0.6867 - val_accuracy: 0.5489\n",
      "\n",
      "Epoch 00001: val_accuracy did not improve from 0.88168\n",
      "Epoch 2/10\n",
      "20/20 [==============================] - 94s 5s/step - loss: 0.6870 - accuracy: 0.5446 - val_loss: 0.6858 - val_accuracy: 0.5528\n",
      "\n",
      "Epoch 00002: val_accuracy did not improve from 0.88168\n",
      "Epoch 3/10\n",
      "20/20 [==============================] - 98s 5s/step - loss: 0.6866 - accuracy: 0.5431 - val_loss: 0.6859 - val_accuracy: 0.5490\n",
      "\n",
      "Epoch 00003: val_accuracy did not improve from 0.88168\n",
      "Epoch 4/10\n",
      "20/20 [==============================] - 97s 5s/step - loss: 0.6865 - accuracy: 0.5452 - val_loss: 0.6849 - val_accuracy: 0.5506\n",
      "\n",
      "Epoch 00004: val_accuracy did not improve from 0.88168\n",
      "Epoch 5/10\n",
      "20/20 [==============================] - 99s 5s/step - loss: 0.6860 - accuracy: 0.5454 - val_loss: 0.6848 - val_accuracy: 0.5511\n",
      "\n",
      "Epoch 00005: val_accuracy did not improve from 0.88168\n",
      "Epoch 6/10\n",
      "20/20 [==============================] - 98s 5s/step - loss: 0.6860 - accuracy: 0.5475 - val_loss: 0.6844 - val_accuracy: 0.5543\n",
      "\n",
      "Epoch 00006: val_accuracy did not improve from 0.88168\n",
      "Epoch 7/10\n",
      "20/20 [==============================] - 99s 5s/step - loss: 0.6849 - accuracy: 0.5500 - val_loss: 0.6839 - val_accuracy: 0.5548\n",
      "\n",
      "Epoch 00007: val_accuracy did not improve from 0.88168\n",
      "Epoch 8/10\n",
      "20/20 [==============================] - 99s 5s/step - loss: 0.6849 - accuracy: 0.5484 - val_loss: 0.6835 - val_accuracy: 0.5558\n",
      "\n",
      "Epoch 00008: val_accuracy did not improve from 0.88168\n",
      "Epoch 9/10\n",
      "20/20 [==============================] - 101s 5s/step - loss: 0.6852 - accuracy: 0.5472 - val_loss: 0.6836 - val_accuracy: 0.5554\n",
      "\n",
      "Epoch 00009: val_accuracy did not improve from 0.88168\n",
      "Epoch 10/10\n",
      "20/20 [==============================] - 98s 5s/step - loss: 0.6847 - accuracy: 0.5491 - val_loss: 0.6830 - val_accuracy: 0.5534\n",
      "\n",
      "Epoch 00010: val_accuracy did not improve from 0.88168\n"
     ]
    }
   ],
   "source": [
    "history4= model.fit(X_train3, y_train3, epochs=10, steps_per_epoch=20, validation_data=(X_test3, y_test3),\n",
    "                    callbacks=[checkpoint])"
   ]
  },
  {
   "cell_type": "markdown",
   "id": "8758261b",
   "metadata": {},
   "source": [
    "# ACCURACY & LOSS CURVE FOR LSTM MODEL WITH FEATURE (F1+F2+F3) "
   ]
  },
  {
   "cell_type": "code",
   "execution_count": 62,
   "id": "8f7e677d",
   "metadata": {},
   "outputs": [
    {
     "data": {
      "image/png": "[encoded data removed]",
      "text/plain": [
       "<Figure size 432x288 with 1 Axes>"
      ]
     },
     "metadata": {
      "needs_background": "light"
     },
     "output_type": "display_data"
    },
    {
     "data": {
      "text/plain": [
       "<Figure size 432x288 with 0 Axes>"
      ]
     },
     "metadata": {},
     "output_type": "display_data"
    }
   ],
   "source": [
    "acc = history4.history['accuracy']\n",
    "val_acc = history4.history['val_accuracy']\n",
    "\n",
    "epochs = range(1, 11)\n",
    "\n",
    "plt.plot(epochs, acc, 'yellow', label='Training acc')\n",
    "plt.plot(epochs, val_acc, 'red', label='Validation acc')\n",
    "plt.title('Training and validation accuracy for LSTM Model with [Bag of words + TFIDF + Word level one hot encoding] Feature')\n",
    "plt.xlabel('Epochs')\n",
    "plt.ylabel('Accuracy')\n",
    "plt.legend()\n",
    "plt.figure()\n",
    "plt.show()"
   ]
  },
  {
   "cell_type": "code",
   "execution_count": 63,
   "id": "e5c55d19",
   "metadata": {},
   "outputs": [
    {
     "data": {
      "image/png": "[encoded data removed]",
      "text/plain": [
       "<Figure size 432x288 with 1 Axes>"
      ]
     },
     "metadata": {
      "needs_background": "light"
     },
     "output_type": "display_data"
    }
   ],
   "source": [
    "loss = history4.history['loss']\n",
    "val_loss = history4.history['val_loss']\n",
    "\n",
    "epochs = range(1, 11)\n",
    "\n",
    "plt.plot(epochs, loss, 'yellow', label='Training loss')\n",
    "plt.plot(epochs, val_loss, 'red', label='Validation loss')\n",
    "plt.title('Training and validation loss for LSTM Model with [Bag of words + TFIDF + Word level one hot encoding] Feature')\n",
    "plt.xlabel('Epochs')\n",
    "plt.ylabel('Loss')\n",
    "plt.legend()\n",
    "plt.show()"
   ]
  },
  {
   "cell_type": "markdown",
   "id": "821d6978",
   "metadata": {},
   "source": [
    "# EVALUATING THE MODEL WITH FEATURE (F1+F2+F3)"
   ]
  },
  {
   "cell_type": "code",
   "execution_count": 64,
   "id": "b087a923",
   "metadata": {},
   "outputs": [
    {
     "name": "stdout",
     "output_type": "stream",
     "text": [
      "Test loss: 0.6829714775085449\n",
      "Test accuracy: 0.5533999800682068\n"
     ]
    }
   ],
   "source": [
    "score4 = model.evaluate(X_test3, y_test3, verbose=0)\n",
    "print('Test loss:', score4[0])\n",
    "print('Test accuracy:', score4[1])"
   ]
  },
  {
   "cell_type": "markdown",
   "id": "eeaff7f3",
   "metadata": {},
   "source": [
    "# CONFUSION MATRIX"
   ]
  },
  {
   "cell_type": "code",
   "execution_count": 75,
   "id": "4c8ea3dd",
   "metadata": {},
   "outputs": [
    {
     "data": {
      "image/png": "[encoded data removed]",
      "text/plain": [
       "<Figure size 144x144 with 1 Axes>"
      ]
     },
     "metadata": {
      "needs_background": "light"
     },
     "output_type": "display_data"
    }
   ],
   "source": [
    "fig = plt.figure(figsize=(2, 2)) \n",
    "\n",
    "y_preds = model.predict(X_test3) \n",
    "\n",
    "Y_pred = np.argmax(y_preds, 1) \n",
    "Y_test = np.argmax(y_test3, 1) \n",
    "\n",
    "mat = confusion_matrix(Y_test, Y_pred) \n",
    "\n",
    "sns.heatmap(mat.T, square=True, annot=True, cbar=False, cmap=plt.cm.Blues)\n",
    "plt.title('Confusion Matrix for LSTM Model with F1+F2+F3 Feature')\n",
    "plt.xlabel('Predicted Values')\n",
    "plt.ylabel('True Values');\n",
    "plt.show();"
   ]
  },
  {
   "cell_type": "markdown",
   "id": "be2caf42",
   "metadata": {},
   "source": [
    "# NAIVE BAYES MODEL WITH FEATURE (F1+F2+F3)"
   ]
  },
  {
   "cell_type": "code",
   "execution_count": 66,
   "id": "4ea5c4d0",
   "metadata": {},
   "outputs": [
    {
     "name": "stdout",
     "output_type": "stream",
     "text": [
      "              precision    recall  f1-score   support\n",
      "\n",
      "           0       0.79      0.72      0.75      6291\n",
      "           1       0.74      0.81      0.77      6209\n",
      "\n",
      "    accuracy                           0.76     12500\n",
      "   macro avg       0.77      0.76      0.76     12500\n",
      "weighted avg       0.77      0.76      0.76     12500\n",
      "\n",
      "Naive Bayes, Accuracy Score: 0.76296\n",
      " \n",
      "Confusion Matrix\n",
      "[[4519 1772]\n",
      " [1191 5018]]\n"
     ]
    }
   ],
   "source": [
    "X_train_4, X_test_4, y_train_4, y_test_4 = train_test_split( modelling_features,y, random_state=0)\n",
    "nb=GaussianNB()\n",
    "nb.fit(X_train_4,y_train_4)\n",
    "y_preds_4 = nb.predict(X_test_4)\n",
    "ac_4=accuracy_score(y_test_4,y_preds_4)\n",
    "report = classification_report( y_test_4, y_preds_4 )\n",
    "print(report)\n",
    "print(\"Naive Bayes, Accuracy Score:\",ac_4)\n",
    "print(\" \")\n",
    "print(\"Confusion Matrix\")\n",
    "cm = confusion_matrix(y_test_4,y_preds_4)\n",
    "print(cm)"
   ]
  },
  {
   "cell_type": "markdown",
   "id": "745557f3",
   "metadata": {},
   "source": [
    "# COMPARISON OF LSTM & NAIVE BAYES MODEL"
   ]
  },
  {
   "cell_type": "code",
   "execution_count": 67,
   "id": "815e9073",
   "metadata": {},
   "outputs": [
    {
     "data": {
      "image/png": "[encoded data removed]",
      "text/plain": [
       "<Figure size 432x288 with 1 Axes>"
      ]
     },
     "metadata": {
      "needs_background": "light"
     },
     "output_type": "display_data"
    }
   ],
   "source": [
    "objects = ('LSTM', 'Naive_bayes')\n",
    "y_pos = np.arange(len(objects))\n",
    "performance = [score4[1],ac_4]\n",
    "plt.bar(y_pos, performance, align='center', alpha=0.5,color=['red', 'purple'])\n",
    "plt.xticks(y_pos, objects)\n",
    "plt.ylabel('Accuracy')\n",
    "plt.title('Algorithm Comparision for F1+F2+F3 feature')\n",
    "plt.show()"
   ]
  },
  {
   "cell_type": "markdown",
   "id": "d5450808",
   "metadata": {},
   "source": [
    "# LSTM MODEL WITH DIFFERENT FEATURES"
   ]
  },
  {
   "cell_type": "code",
   "execution_count": 68,
   "id": "3c1eeeef",
   "metadata": {},
   "outputs": [
    {
     "data": {
      "image/png": "[encoded data removed]",
      "text/plain": [
       "<Figure size 432x288 with 1 Axes>"
      ]
     },
     "metadata": {
      "needs_background": "light"
     },
     "output_type": "display_data"
    }
   ],
   "source": [
    "objects = ('LSTM_F1', 'LSTM_F2','LSTM_F3', 'LSTM(F1+F2+F3)')\n",
    "y_pos = np.arange(len(objects))\n",
    "performance = [score1[1],score2[1],score3[1],score4[1]]\n",
    "plt.bar(y_pos, performance, align='center', alpha=0.5,color=['blue', 'purple','green','red'])\n",
    "plt.xticks(y_pos, objects)\n",
    "plt.ylabel('Accuracy')\n",
    "plt.title('LSTM model Accuracy comparison')\n",
    "plt.show()"
   ]
  },
  {
   "cell_type": "markdown",
   "id": "bed60f90",
   "metadata": {},
   "source": [
    "# NAIVE BAYES MODEL WITH DIFFERENT FEATURES"
   ]
  },
  {
   "cell_type": "code",
   "execution_count": 69,
   "id": "35110876",
   "metadata": {},
   "outputs": [
    {
     "data": {
      "image/png": "[encoded data removed]",
      "text/plain": [
       "<Figure size 432x288 with 1 Axes>"
      ]
     },
     "metadata": {
      "needs_background": "light"
     },
     "output_type": "display_data"
    }
   ],
   "source": [
    "objects = ('NaiveBayes_F1', 'NaiveBayes_F2','NaiveBayes_F3','NaiveBayes_(F1+F2+F3)')\n",
    "y_pos = np.arange(len(objects))\n",
    "performance = [ac_1,ac_2,ac_3,ac_4]\n",
    "plt.bar(y_pos, performance, align='center', alpha=0.5,color=['pink', 'red','yellow','black'])\n",
    "plt.xticks(y_pos, objects)\n",
    "plt.ylabel('Accuracy')\n",
    "plt.title('NaiveBayes model Accuracy comparison')\n",
    "plt.show()"
   ]
  },
  {
   "cell_type": "markdown",
   "id": "f75e388a",
   "metadata": {},
   "source": [
    "# LSTM MODEL SUMMARY"
   ]
  },
  {
   "cell_type": "code",
   "execution_count": 70,
   "id": "b157573a",
   "metadata": {},
   "outputs": [
    {
     "name": "stdout",
     "output_type": "stream",
     "text": [
      "Model: \"sequential\"\n",
      "_________________________________________________________________\n",
      "Layer (type)                 Output Shape              Param #   \n",
      "=================================================================\n",
      "embedding (Embedding)        (None, None, 20)          100000    \n",
      "_________________________________________________________________\n",
      "lstm (LSTM)                  (None, 15)                2160      \n",
      "_________________________________________________________________\n",
      "flatten (Flatten)            (None, 15)                0         \n",
      "_________________________________________________________________\n",
      "dropout (Dropout)            (None, 15)                0         \n",
      "_________________________________________________________________\n",
      "dense (Dense)                (None, 512)               8192      \n",
      "_________________________________________________________________\n",
      "dense_1 (Dense)              (None, 2)                 1026      \n",
      "=================================================================\n",
      "Total params: 111,378\n",
      "Trainable params: 111,378\n",
      "Non-trainable params: 0\n",
      "_________________________________________________________________\n"
     ]
    }
   ],
   "source": [
    "model.summary()"
   ]
  },
  {
   "cell_type": "markdown",
   "id": "47b97f7b",
   "metadata": {},
   "source": [
    "# TESTING"
   ]
  },
  {
   "cell_type": "code",
   "execution_count": 71,
   "id": "3e7f5976",
   "metadata": {},
   "outputs": [],
   "source": [
    "import keras\n",
    "best_model = keras.models.load_model(\"best_model.hdf5\")"
   ]
  },
  {
   "cell_type": "code",
   "execution_count": 72,
   "id": "d0f75d1b",
   "metadata": {},
   "outputs": [],
   "source": [
    "review = ['Negative','Positive']"
   ]
  },
  {
   "cell_type": "code",
   "execution_count": 73,
   "id": "c250368a",
   "metadata": {},
   "outputs": [
    {
     "data": {
      "text/plain": [
       "'Negative'"
      ]
     },
     "execution_count": 73,
     "metadata": {},
     "output_type": "execute_result"
    }
   ],
   "source": [
    "sequence = tokenizer.texts_to_sequences(['this is a worst movie'])\n",
    "test = pad_sequences(sequence, maxlen=max_len)\n",
    "review[np.around(best_model.predict(test), decimals=0).argmax(axis=1)[0]]"
   ]
  },
  {
   "cell_type": "code",
   "execution_count": 74,
   "id": "e2f36266",
   "metadata": {},
   "outputs": [
    {
     "data": {
      "text/plain": [
       "'Positive'"
      ]
     },
     "execution_count": 74,
     "metadata": {},
     "output_type": "execute_result"
    }
   ],
   "source": [
    "sequence = tokenizer.texts_to_sequences(['this is one of the best movie i had ever seen'])\n",
    "test = pad_sequences(sequence, maxlen=max_len)\n",
    "review[np.around(best_model.predict(test), decimals=0).argmax(axis=1)[0]]"
   ]
  }
 ],
 "metadata": {
  "kernelspec": {
   "display_name": "Python 3",
   "language": "python",
   "name": "python3"
  },
  "language_info": {
   "codemirror_mode": {
    "name": "ipython",
    "version": 3
   },
   "file_extension": ".py",
   "mimetype": "text/x-python",
   "name": "python",
   "nbconvert_exporter": "python",
   "pygments_lexer": "ipython3",
   "version": "3.6.13"
  }
 },
 "nbformat": 4,
 "nbformat_minor": 5
}
